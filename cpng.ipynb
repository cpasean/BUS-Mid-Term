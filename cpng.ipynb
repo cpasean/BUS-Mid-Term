{
 "cells": [
  {
   "cell_type": "code",
   "execution_count": 1,
   "metadata": {},
   "outputs": [],
   "source": [
    "# import all packages and set plots to be embedded inline\n",
    "import numpy as np\n",
    "import pandas as pd\n",
    "import matplotlib.pyplot as plt\n",
    "import seaborn as sb\n",
    "import warnings\n",
    "warnings.simplefilter(action='ignore', category=FutureWarning)\n",
    "\n",
    "%matplotlib inline"
   ]
  },
  {
   "cell_type": "code",
   "execution_count": 2,
   "metadata": {},
   "outputs": [],
   "source": [
    "# font to use in Slide Deck\n",
    "\n",
    "font = {'family': 'calibri',\n",
    "        'color':  'black',\n",
    "        'weight': 'normal',\n",
    "        'size': 12,\n",
    "        }\n",
    "\n",
    "default_color = sb.color_palette()[0]"
   ]
  },
  {
   "cell_type": "code",
   "execution_count": 3,
   "metadata": {
    "scrolled": true
   },
   "outputs": [
    {
     "data": {
      "text/html": [
       "<div>\n",
       "<style scoped>\n",
       "    .dataframe tbody tr th:only-of-type {\n",
       "        vertical-align: middle;\n",
       "    }\n",
       "\n",
       "    .dataframe tbody tr th {\n",
       "        vertical-align: top;\n",
       "    }\n",
       "\n",
       "    .dataframe thead th {\n",
       "        text-align: right;\n",
       "    }\n",
       "</style>\n",
       "<table border=\"1\" class=\"dataframe\">\n",
       "  <thead>\n",
       "    <tr style=\"text-align: right;\">\n",
       "      <th></th>\n",
       "      <th>Fiscal Period Ending</th>\n",
       "      <th>Revenue Estimate_Bil</th>\n",
       "      <th>Rev_YoY_Growth</th>\n",
       "      <th>OperatingLoss_Bil</th>\n",
       "      <th>Operating Cash Flow</th>\n",
       "      <th>Operating Cash Flow_m</th>\n",
       "      <th>Rev_YoY_Growth.1</th>\n",
       "    </tr>\n",
       "  </thead>\n",
       "  <tbody>\n",
       "    <tr>\n",
       "      <th>0</th>\n",
       "      <td>Dec-13</td>\n",
       "      <td>0.04</td>\n",
       "      <td>-</td>\n",
       "      <td>-</td>\n",
       "      <td>NaN</td>\n",
       "      <td>NaN</td>\n",
       "      <td>-</td>\n",
       "    </tr>\n",
       "    <tr>\n",
       "      <th>1</th>\n",
       "      <td>Dec-14</td>\n",
       "      <td>0.31</td>\n",
       "      <td>629%</td>\n",
       "      <td>-0.11</td>\n",
       "      <td>NaN</td>\n",
       "      <td>NaN</td>\n",
       "      <td>NaN</td>\n",
       "    </tr>\n",
       "    <tr>\n",
       "      <th>2</th>\n",
       "      <td>Dec-15</td>\n",
       "      <td>1.01</td>\n",
       "      <td>225%</td>\n",
       "      <td>-0.49</td>\n",
       "      <td>NaN</td>\n",
       "      <td>NaN</td>\n",
       "      <td>NaN</td>\n",
       "    </tr>\n",
       "    <tr>\n",
       "      <th>3</th>\n",
       "      <td>Dec-16</td>\n",
       "      <td>1.71</td>\n",
       "      <td>69%</td>\n",
       "      <td>-0.50</td>\n",
       "      <td>NaN</td>\n",
       "      <td>NaN</td>\n",
       "      <td>NaN</td>\n",
       "    </tr>\n",
       "    <tr>\n",
       "      <th>4</th>\n",
       "      <td>Dec-17</td>\n",
       "      <td>2.40</td>\n",
       "      <td>40%</td>\n",
       "      <td>-0.57</td>\n",
       "      <td>NaN</td>\n",
       "      <td>NaN</td>\n",
       "      <td>NaN</td>\n",
       "    </tr>\n",
       "  </tbody>\n",
       "</table>\n",
       "</div>"
      ],
      "text/plain": [
       "  Fiscal Period Ending  Revenue Estimate_Bil Rev_YoY_Growth OperatingLoss_Bil  \\\n",
       "0               Dec-13                  0.04              -                 -   \n",
       "1               Dec-14                  0.31           629%             -0.11   \n",
       "2               Dec-15                  1.01           225%             -0.49   \n",
       "3               Dec-16                  1.71            69%             -0.50   \n",
       "4               Dec-17                  2.40            40%             -0.57   \n",
       "\n",
       "   Operating Cash Flow  Operating Cash Flow_m Rev_YoY_Growth.1  \n",
       "0                  NaN                    NaN                -  \n",
       "1                  NaN                    NaN              NaN  \n",
       "2                  NaN                    NaN              NaN  \n",
       "3                  NaN                    NaN              NaN  \n",
       "4                  NaN                    NaN              NaN  "
      ]
     },
     "execution_count": 3,
     "metadata": {},
     "output_type": "execute_result"
    }
   ],
   "source": [
    "dfr = pd.read_csv('chart.csv')\n",
    "dfr.head()"
   ]
  },
  {
   "cell_type": "code",
   "execution_count": 4,
   "metadata": {},
   "outputs": [
    {
     "data": {
      "text/html": [
       "<div>\n",
       "<style scoped>\n",
       "    .dataframe tbody tr th:only-of-type {\n",
       "        vertical-align: middle;\n",
       "    }\n",
       "\n",
       "    .dataframe tbody tr th {\n",
       "        vertical-align: top;\n",
       "    }\n",
       "\n",
       "    .dataframe thead th {\n",
       "        text-align: right;\n",
       "    }\n",
       "</style>\n",
       "<table border=\"1\" class=\"dataframe\">\n",
       "  <thead>\n",
       "    <tr style=\"text-align: right;\">\n",
       "      <th></th>\n",
       "      <th>Rank</th>\n",
       "      <th>CompanyName</th>\n",
       "      <th>Revenue_Bil_TAM_100B</th>\n",
       "      <th>TradeCount</th>\n",
       "    </tr>\n",
       "  </thead>\n",
       "  <tbody>\n",
       "    <tr>\n",
       "      <th>0</th>\n",
       "      <td>1</td>\n",
       "      <td>Naver</td>\n",
       "      <td>1.50</td>\n",
       "      <td>22.8</td>\n",
       "    </tr>\n",
       "    <tr>\n",
       "      <th>1</th>\n",
       "      <td>2</td>\n",
       "      <td>Coupang</td>\n",
       "      <td>11.97</td>\n",
       "      <td>19.3</td>\n",
       "    </tr>\n",
       "    <tr>\n",
       "      <th>2</th>\n",
       "      <td>3</td>\n",
       "      <td>eBay Korea</td>\n",
       "      <td>1.80</td>\n",
       "      <td>17.1</td>\n",
       "    </tr>\n",
       "    <tr>\n",
       "      <th>3</th>\n",
       "      <td>4</td>\n",
       "      <td>11th St</td>\n",
       "      <td>0.60</td>\n",
       "      <td>9.7</td>\n",
       "    </tr>\n",
       "    <tr>\n",
       "      <th>4</th>\n",
       "      <td>5</td>\n",
       "      <td>Wemap</td>\n",
       "      <td>0.50</td>\n",
       "      <td>6.5</td>\n",
       "    </tr>\n",
       "  </tbody>\n",
       "</table>\n",
       "</div>"
      ],
      "text/plain": [
       "   Rank CompanyName   Revenue_Bil_TAM_100B   TradeCount\n",
       "0     1       Naver                    1.50        22.8\n",
       "1     2     Coupang                   11.97        19.3\n",
       "2     3  eBay Korea                    1.80        17.1\n",
       "3     4     11th St                    0.60         9.7\n",
       "4     5       Wemap                    0.50         6.5"
      ]
     },
     "execution_count": 4,
     "metadata": {},
     "output_type": "execute_result"
    }
   ],
   "source": [
    "dfe = pd.read_csv('ecommercerank.csv')\n",
    "dfe.head()"
   ]
  },
  {
   "cell_type": "code",
   "execution_count": 5,
   "metadata": {
    "scrolled": true
   },
   "outputs": [
    {
     "data": {
      "text/html": [
       "<div>\n",
       "<style scoped>\n",
       "    .dataframe tbody tr th:only-of-type {\n",
       "        vertical-align: middle;\n",
       "    }\n",
       "\n",
       "    .dataframe tbody tr th {\n",
       "        vertical-align: top;\n",
       "    }\n",
       "\n",
       "    .dataframe thead th {\n",
       "        text-align: right;\n",
       "    }\n",
       "</style>\n",
       "<table border=\"1\" class=\"dataframe\">\n",
       "  <thead>\n",
       "    <tr style=\"text-align: right;\">\n",
       "      <th></th>\n",
       "      <th>up_to_date</th>\n",
       "      <th>Cash Balance</th>\n",
       "      <th>Amount_M$</th>\n",
       "      <th>New Business Launched</th>\n",
       "    </tr>\n",
       "  </thead>\n",
       "  <tbody>\n",
       "    <tr>\n",
       "      <th>0</th>\n",
       "      <td>2018-11</td>\n",
       "      <td>Vision Fund Invested</td>\n",
       "      <td>2,000</td>\n",
       "      <td>Rocket Delivery upgrade</td>\n",
       "    </tr>\n",
       "    <tr>\n",
       "      <th>1</th>\n",
       "      <td>2018-12</td>\n",
       "      <td>Cash Balance</td>\n",
       "      <td>574</td>\n",
       "      <td>Coupang Eats</td>\n",
       "    </tr>\n",
       "    <tr>\n",
       "      <th>2</th>\n",
       "      <td>2019-12</td>\n",
       "      <td>Cash Balance</td>\n",
       "      <td>1,222</td>\n",
       "      <td>Coupang Play</td>\n",
       "    </tr>\n",
       "    <tr>\n",
       "      <th>3</th>\n",
       "      <td>2020-12</td>\n",
       "      <td>Cash Balance</td>\n",
       "      <td>1,251</td>\n",
       "      <td>NaN</td>\n",
       "    </tr>\n",
       "    <tr>\n",
       "      <th>4</th>\n",
       "      <td>2021-3</td>\n",
       "      <td>IPO</td>\n",
       "      <td>3,400</td>\n",
       "      <td>NaN</td>\n",
       "    </tr>\n",
       "  </tbody>\n",
       "</table>\n",
       "</div>"
      ],
      "text/plain": [
       "  up_to_date          Cash Balance  Amount_M$     New Business Launched\n",
       "0    2018-11  Vision Fund Invested      2,000   Rocket Delivery upgrade\n",
       "1    2018-12          Cash Balance        574              Coupang Eats\n",
       "2    2019-12          Cash Balance      1,222              Coupang Play\n",
       "3    2020-12          Cash Balance      1,251                       NaN\n",
       "4     2021-3                   IPO      3,400                       NaN"
      ]
     },
     "execution_count": 5,
     "metadata": {},
     "output_type": "execute_result"
    }
   ],
   "source": [
    "dfc = pd.read_csv('cashbalance.csv')\n",
    "dfc.head()"
   ]
  },
  {
   "cell_type": "code",
   "execution_count": 6,
   "metadata": {
    "scrolled": false
   },
   "outputs": [
    {
     "data": {
      "text/html": [
       "<div>\n",
       "<style scoped>\n",
       "    .dataframe tbody tr th:only-of-type {\n",
       "        vertical-align: middle;\n",
       "    }\n",
       "\n",
       "    .dataframe tbody tr th {\n",
       "        vertical-align: top;\n",
       "    }\n",
       "\n",
       "    .dataframe thead th {\n",
       "        text-align: right;\n",
       "    }\n",
       "</style>\n",
       "<table border=\"1\" class=\"dataframe\">\n",
       "  <thead>\n",
       "    <tr style=\"text-align: right;\">\n",
       "      <th></th>\n",
       "      <th>Fiscal Period Ending</th>\n",
       "      <th>Revenue Estimate_Bil</th>\n",
       "      <th>Rev_YoY_Growth</th>\n",
       "      <th>OperatingLoss_Bil</th>\n",
       "      <th>Operating Cash Flow</th>\n",
       "      <th>Operating Cash Flow_m</th>\n",
       "      <th>Rev_YoY_Growth.1</th>\n",
       "    </tr>\n",
       "  </thead>\n",
       "  <tbody>\n",
       "    <tr>\n",
       "      <th>0</th>\n",
       "      <td>Dec-13</td>\n",
       "      <td>0.04</td>\n",
       "      <td>-</td>\n",
       "      <td>-</td>\n",
       "      <td>NaN</td>\n",
       "      <td>NaN</td>\n",
       "      <td>-</td>\n",
       "    </tr>\n",
       "    <tr>\n",
       "      <th>1</th>\n",
       "      <td>Dec-14</td>\n",
       "      <td>0.31</td>\n",
       "      <td>629%</td>\n",
       "      <td>-0.11</td>\n",
       "      <td>NaN</td>\n",
       "      <td>NaN</td>\n",
       "      <td>NaN</td>\n",
       "    </tr>\n",
       "    <tr>\n",
       "      <th>2</th>\n",
       "      <td>Dec-15</td>\n",
       "      <td>1.01</td>\n",
       "      <td>225%</td>\n",
       "      <td>-0.49</td>\n",
       "      <td>NaN</td>\n",
       "      <td>NaN</td>\n",
       "      <td>NaN</td>\n",
       "    </tr>\n",
       "    <tr>\n",
       "      <th>3</th>\n",
       "      <td>Dec-16</td>\n",
       "      <td>1.71</td>\n",
       "      <td>69%</td>\n",
       "      <td>-0.50</td>\n",
       "      <td>NaN</td>\n",
       "      <td>NaN</td>\n",
       "      <td>NaN</td>\n",
       "    </tr>\n",
       "    <tr>\n",
       "      <th>4</th>\n",
       "      <td>Dec-17</td>\n",
       "      <td>2.40</td>\n",
       "      <td>40%</td>\n",
       "      <td>-0.57</td>\n",
       "      <td>NaN</td>\n",
       "      <td>NaN</td>\n",
       "      <td>NaN</td>\n",
       "    </tr>\n",
       "    <tr>\n",
       "      <th>5</th>\n",
       "      <td>Dec-18</td>\n",
       "      <td>3.95</td>\n",
       "      <td>65%</td>\n",
       "      <td>-1.05</td>\n",
       "      <td>-0.694</td>\n",
       "      <td>-694.0</td>\n",
       "      <td>NaN</td>\n",
       "    </tr>\n",
       "    <tr>\n",
       "      <th>6</th>\n",
       "      <td>Dec-19</td>\n",
       "      <td>6.27</td>\n",
       "      <td>59%</td>\n",
       "      <td>-0.64</td>\n",
       "      <td>-0.311</td>\n",
       "      <td>-311.0</td>\n",
       "      <td>-55%</td>\n",
       "    </tr>\n",
       "    <tr>\n",
       "      <th>7</th>\n",
       "      <td>Dec-20</td>\n",
       "      <td>11.97</td>\n",
       "      <td>91%</td>\n",
       "      <td>-0.52</td>\n",
       "      <td>0.301</td>\n",
       "      <td>301.0</td>\n",
       "      <td>-197%</td>\n",
       "    </tr>\n",
       "    <tr>\n",
       "      <th>8</th>\n",
       "      <td>Dec-21</td>\n",
       "      <td>19.19</td>\n",
       "      <td>60%</td>\n",
       "      <td>-1.14</td>\n",
       "      <td>0.100</td>\n",
       "      <td>100.0</td>\n",
       "      <td>-67%</td>\n",
       "    </tr>\n",
       "    <tr>\n",
       "      <th>9</th>\n",
       "      <td>Dec-22</td>\n",
       "      <td>26.96</td>\n",
       "      <td>40%</td>\n",
       "      <td>-0.9</td>\n",
       "      <td>0.301</td>\n",
       "      <td>301.0</td>\n",
       "      <td>201%</td>\n",
       "    </tr>\n",
       "    <tr>\n",
       "      <th>10</th>\n",
       "      <td>Dec-23</td>\n",
       "      <td>33.95</td>\n",
       "      <td>26%</td>\n",
       "      <td>-0.5</td>\n",
       "      <td>0.600</td>\n",
       "      <td>600.0</td>\n",
       "      <td>99%</td>\n",
       "    </tr>\n",
       "    <tr>\n",
       "      <th>11</th>\n",
       "      <td>Dec-24</td>\n",
       "      <td>35.48</td>\n",
       "      <td>5%</td>\n",
       "      <td>0</td>\n",
       "      <td>0.900</td>\n",
       "      <td>900.0</td>\n",
       "      <td>50%</td>\n",
       "    </tr>\n",
       "    <tr>\n",
       "      <th>12</th>\n",
       "      <td>Dec-25</td>\n",
       "      <td>39.42</td>\n",
       "      <td>11%</td>\n",
       "      <td>NaN</td>\n",
       "      <td>NaN</td>\n",
       "      <td>NaN</td>\n",
       "      <td>NaN</td>\n",
       "    </tr>\n",
       "    <tr>\n",
       "      <th>13</th>\n",
       "      <td>Dec-26</td>\n",
       "      <td>41.91</td>\n",
       "      <td>6%</td>\n",
       "      <td>NaN</td>\n",
       "      <td>NaN</td>\n",
       "      <td>NaN</td>\n",
       "      <td>NaN</td>\n",
       "    </tr>\n",
       "    <tr>\n",
       "      <th>14</th>\n",
       "      <td>Dec-27</td>\n",
       "      <td>46.56</td>\n",
       "      <td>11%</td>\n",
       "      <td>NaN</td>\n",
       "      <td>NaN</td>\n",
       "      <td>NaN</td>\n",
       "      <td>NaN</td>\n",
       "    </tr>\n",
       "    <tr>\n",
       "      <th>15</th>\n",
       "      <td>Dec-28</td>\n",
       "      <td>51.54</td>\n",
       "      <td>11%</td>\n",
       "      <td>NaN</td>\n",
       "      <td>NaN</td>\n",
       "      <td>NaN</td>\n",
       "      <td>NaN</td>\n",
       "    </tr>\n",
       "    <tr>\n",
       "      <th>16</th>\n",
       "      <td>Dec-29</td>\n",
       "      <td>56.85</td>\n",
       "      <td>10%</td>\n",
       "      <td>NaN</td>\n",
       "      <td>NaN</td>\n",
       "      <td>NaN</td>\n",
       "      <td>NaN</td>\n",
       "    </tr>\n",
       "    <tr>\n",
       "      <th>17</th>\n",
       "      <td>Dec-30</td>\n",
       "      <td>62.49</td>\n",
       "      <td>10%</td>\n",
       "      <td>NaN</td>\n",
       "      <td>NaN</td>\n",
       "      <td>NaN</td>\n",
       "      <td>NaN</td>\n",
       "    </tr>\n",
       "  </tbody>\n",
       "</table>\n",
       "</div>"
      ],
      "text/plain": [
       "   Fiscal Period Ending  Revenue Estimate_Bil Rev_YoY_Growth  \\\n",
       "0                Dec-13                  0.04              -   \n",
       "1                Dec-14                  0.31           629%   \n",
       "2                Dec-15                  1.01           225%   \n",
       "3                Dec-16                  1.71            69%   \n",
       "4                Dec-17                  2.40            40%   \n",
       "5                Dec-18                  3.95            65%   \n",
       "6                Dec-19                  6.27            59%   \n",
       "7                Dec-20                 11.97            91%   \n",
       "8                Dec-21                 19.19            60%   \n",
       "9                Dec-22                 26.96            40%   \n",
       "10               Dec-23                 33.95            26%   \n",
       "11               Dec-24                 35.48             5%   \n",
       "12               Dec-25                 39.42            11%   \n",
       "13               Dec-26                 41.91             6%   \n",
       "14               Dec-27                 46.56            11%   \n",
       "15               Dec-28                 51.54            11%   \n",
       "16               Dec-29                 56.85            10%   \n",
       "17               Dec-30                 62.49            10%   \n",
       "\n",
       "   OperatingLoss_Bil  Operating Cash Flow  Operating Cash Flow_m  \\\n",
       "0                  -                  NaN                    NaN   \n",
       "1              -0.11                  NaN                    NaN   \n",
       "2              -0.49                  NaN                    NaN   \n",
       "3              -0.50                  NaN                    NaN   \n",
       "4              -0.57                  NaN                    NaN   \n",
       "5              -1.05               -0.694                 -694.0   \n",
       "6              -0.64               -0.311                 -311.0   \n",
       "7              -0.52                0.301                  301.0   \n",
       "8              -1.14                0.100                  100.0   \n",
       "9               -0.9                0.301                  301.0   \n",
       "10              -0.5                0.600                  600.0   \n",
       "11                 0                0.900                  900.0   \n",
       "12               NaN                  NaN                    NaN   \n",
       "13               NaN                  NaN                    NaN   \n",
       "14               NaN                  NaN                    NaN   \n",
       "15               NaN                  NaN                    NaN   \n",
       "16               NaN                  NaN                    NaN   \n",
       "17               NaN                  NaN                    NaN   \n",
       "\n",
       "   Rev_YoY_Growth.1  \n",
       "0                 -  \n",
       "1               NaN  \n",
       "2               NaN  \n",
       "3               NaN  \n",
       "4               NaN  \n",
       "5               NaN  \n",
       "6              -55%  \n",
       "7             -197%  \n",
       "8              -67%  \n",
       "9              201%  \n",
       "10              99%  \n",
       "11              50%  \n",
       "12              NaN  \n",
       "13              NaN  \n",
       "14              NaN  \n",
       "15              NaN  \n",
       "16              NaN  \n",
       "17              NaN  "
      ]
     },
     "execution_count": 6,
     "metadata": {},
     "output_type": "execute_result"
    }
   ],
   "source": [
    "dfr"
   ]
  },
  {
   "cell_type": "code",
   "execution_count": 7,
   "metadata": {},
   "outputs": [],
   "source": [
    "drop = np.arange(12, 18, 1)\n",
    "drop\n",
    "\n",
    "dfr = dfr.drop(index = drop)"
   ]
  },
  {
   "cell_type": "code",
   "execution_count": 8,
   "metadata": {},
   "outputs": [
    {
     "data": {
      "text/plain": [
       "0      0.04\n",
       "1      0.31\n",
       "2      1.01\n",
       "3      1.71\n",
       "4      2.40\n",
       "5      3.95\n",
       "6      6.27\n",
       "7     11.97\n",
       "8     19.19\n",
       "9     26.96\n",
       "10    33.95\n",
       "11    35.48\n",
       "Name: Revenue Estimate_Bil, dtype: float64"
      ]
     },
     "execution_count": 8,
     "metadata": {},
     "output_type": "execute_result"
    }
   ],
   "source": [
    "dfr['Revenue Estimate_Bil']"
   ]
  },
  {
   "cell_type": "code",
   "execution_count": 9,
   "metadata": {},
   "outputs": [],
   "source": [
    "dfr['OperatingLoss_Bil'].replace('-', np.NaN, inplace = True)\n",
    "dfr['Rev_YoY_Growth'].replace('-', 'Start', inplace = True)"
   ]
  },
  {
   "cell_type": "code",
   "execution_count": 10,
   "metadata": {},
   "outputs": [],
   "source": [
    "dfr['OperatingLoss_Bil'] = pd.to_numeric(dfr['OperatingLoss_Bil'])"
   ]
  },
  {
   "cell_type": "code",
   "execution_count": 11,
   "metadata": {},
   "outputs": [
    {
     "data": {
      "text/plain": [
       "0      NaN\n",
       "1    -0.11\n",
       "2    -0.49\n",
       "3    -0.50\n",
       "4    -0.57\n",
       "5    -1.05\n",
       "6    -0.64\n",
       "7    -0.52\n",
       "8    -1.14\n",
       "9    -0.90\n",
       "10   -0.50\n",
       "11    0.00\n",
       "Name: OperatingLoss_Bil, dtype: float64"
      ]
     },
     "execution_count": 11,
     "metadata": {},
     "output_type": "execute_result"
    }
   ],
   "source": [
    "dfr['OperatingLoss_Bil']"
   ]
  },
  {
   "cell_type": "code",
   "execution_count": 12,
   "metadata": {},
   "outputs": [
    {
     "data": {
      "text/plain": [
       "0     Start\n",
       "1      629%\n",
       "2      225%\n",
       "3       69%\n",
       "4       40%\n",
       "5       65%\n",
       "6       59%\n",
       "7       91%\n",
       "8       60%\n",
       "9       40%\n",
       "10      26%\n",
       "11       5%\n",
       "Name: Rev_YoY_Growth, dtype: object"
      ]
     },
     "execution_count": 12,
     "metadata": {},
     "output_type": "execute_result"
    }
   ],
   "source": [
    "dfr['Rev_YoY_Growth']"
   ]
  },
  {
   "cell_type": "code",
   "execution_count": 13,
   "metadata": {},
   "outputs": [
    {
     "data": {
      "text/plain": [
       "12"
      ]
     },
     "execution_count": 13,
     "metadata": {},
     "output_type": "execute_result"
    }
   ],
   "source": [
    "dfr['Rev_YoY_Growth'].shape[0]"
   ]
  },
  {
   "cell_type": "code",
   "execution_count": 14,
   "metadata": {},
   "outputs": [
    {
     "data": {
      "text/plain": [
       "['Start',\n",
       " '629%',\n",
       " '225%',\n",
       " '69%',\n",
       " '40%',\n",
       " '65%',\n",
       " '59%',\n",
       " '91%',\n",
       " '60%',\n",
       " '40%',\n",
       " '26%',\n",
       " '5%']"
      ]
     },
     "execution_count": 14,
     "metadata": {},
     "output_type": "execute_result"
    }
   ],
   "source": [
    "labels = ['{}'.format(v) for v in dfr['Rev_YoY_Growth']]\n",
    "labels "
   ]
  },
  {
   "cell_type": "code",
   "execution_count": 15,
   "metadata": {},
   "outputs": [],
   "source": [
    "value = dfr['Rev_YoY_Growth']"
   ]
  },
  {
   "cell_type": "code",
   "execution_count": 16,
   "metadata": {
    "scrolled": true
   },
   "outputs": [
    {
     "data": {
      "image/png": "[encoded data removed]",
      "text/plain": [
       "<Figure size 1008x648 with 1 Axes>"
      ]
     },
     "metadata": {
      "needs_background": "light"
     },
     "output_type": "display_data"
    }
   ],
   "source": [
    "plt.figure(figsize = [14,9])\n",
    "\n",
    "plt.errorbar(x = dfr['Fiscal Period Ending'], y = dfr['Revenue Estimate_Bil'], label = 'Revenue history and forecast')\n",
    "sb.barplot(data = dfr, x = 'Fiscal Period Ending',  y = dfr['Revenue Estimate_Bil'], palette = 'Blues')\n",
    "sb.barplot(data = dfr, x = 'Fiscal Period Ending',  y = dfr['OperatingLoss_Bil'], palette = 'Greys')\n",
    "plt.errorbar(x = dfr['Fiscal Period Ending'], y = dfr['OperatingLoss_Bil'], label = 'Operating income and forecast')\n",
    "plt.legend(bbox_to_anchor=(0.01,0.97), loc = 'upper left', borderaxespad = 0)\n",
    "\n",
    "for i in range(dfr['Rev_YoY_Growth'].shape[0]):\n",
    "    count = labels[i]\n",
    "    plt.text(i, dfr['Revenue Estimate_Bil'][i] + 1, labels[i], ha = 'center', va = 'top')\n",
    "\n",
    "\n",
    "plt.title('Revenue vs Operating loss (Data: Seeking Alpha, Chart: BUS9551)', fontdict = font)\n",
    "plt.xlabel('Fiscal Year End', fontdict = font)\n",
    "plt.ylabel('Billion USD', fontdict = font)\n",
    "\n",
    "plt.grid(axis='y')\n",
    "plt.show()"
   ]
  },
  {
   "cell_type": "code",
   "execution_count": 17,
   "metadata": {
    "scrolled": false
   },
   "outputs": [
    {
     "data": {
      "text/html": [
       "<div>\n",
       "<style scoped>\n",
       "    .dataframe tbody tr th:only-of-type {\n",
       "        vertical-align: middle;\n",
       "    }\n",
       "\n",
       "    .dataframe tbody tr th {\n",
       "        vertical-align: top;\n",
       "    }\n",
       "\n",
       "    .dataframe thead th {\n",
       "        text-align: right;\n",
       "    }\n",
       "</style>\n",
       "<table border=\"1\" class=\"dataframe\">\n",
       "  <thead>\n",
       "    <tr style=\"text-align: right;\">\n",
       "      <th></th>\n",
       "      <th>Rank</th>\n",
       "      <th>CompanyName</th>\n",
       "      <th>Revenue_Bil_TAM_100B</th>\n",
       "      <th>TradeCount</th>\n",
       "    </tr>\n",
       "  </thead>\n",
       "  <tbody>\n",
       "    <tr>\n",
       "      <th>0</th>\n",
       "      <td>1</td>\n",
       "      <td>Naver</td>\n",
       "      <td>1.50</td>\n",
       "      <td>22.8</td>\n",
       "    </tr>\n",
       "    <tr>\n",
       "      <th>1</th>\n",
       "      <td>2</td>\n",
       "      <td>Coupang</td>\n",
       "      <td>11.97</td>\n",
       "      <td>19.3</td>\n",
       "    </tr>\n",
       "    <tr>\n",
       "      <th>2</th>\n",
       "      <td>3</td>\n",
       "      <td>eBay Korea</td>\n",
       "      <td>1.80</td>\n",
       "      <td>17.1</td>\n",
       "    </tr>\n",
       "    <tr>\n",
       "      <th>3</th>\n",
       "      <td>4</td>\n",
       "      <td>11th St</td>\n",
       "      <td>0.60</td>\n",
       "      <td>9.7</td>\n",
       "    </tr>\n",
       "    <tr>\n",
       "      <th>4</th>\n",
       "      <td>5</td>\n",
       "      <td>Wemap</td>\n",
       "      <td>0.50</td>\n",
       "      <td>6.5</td>\n",
       "    </tr>\n",
       "  </tbody>\n",
       "</table>\n",
       "</div>"
      ],
      "text/plain": [
       "   Rank CompanyName   Revenue_Bil_TAM_100B   TradeCount\n",
       "0     1       Naver                    1.50        22.8\n",
       "1     2     Coupang                   11.97        19.3\n",
       "2     3  eBay Korea                    1.80        17.1\n",
       "3     4     11th St                    0.60         9.7\n",
       "4     5       Wemap                    0.50         6.5"
      ]
     },
     "execution_count": 17,
     "metadata": {},
     "output_type": "execute_result"
    }
   ],
   "source": [
    "dfe"
   ]
  },
  {
   "cell_type": "code",
   "execution_count": 18,
   "metadata": {},
   "outputs": [
    {
     "data": {
      "text/plain": [
       "Index(['Rank', 'CompanyName', ' Revenue_Bil_TAM_100B ', 'TradeCount'], dtype='object')"
      ]
     },
     "execution_count": 18,
     "metadata": {},
     "output_type": "execute_result"
    }
   ],
   "source": [
    "dfe.columns"
   ]
  },
  {
   "cell_type": "code",
   "execution_count": 19,
   "metadata": {
    "scrolled": true
   },
   "outputs": [
    {
     "data": {
      "image/png": "[encoded data removed]",
      "text/plain": [
       "<Figure size 1152x648 with 1 Axes>"
      ]
     },
     "metadata": {
      "needs_background": "light"
     },
     "output_type": "display_data"
    }
   ],
   "source": [
    "plt.figure(figsize = [16,9])\n",
    "\n",
    "# libraries\n",
    "import numpy as np\n",
    "import matplotlib.pyplot as plt\n",
    " \n",
    "# width of the bars\n",
    "barWidth = 0.3\n",
    " \n",
    "# Choose the height of the blue bars\n",
    "bars1 = dfe[' Revenue_Bil_TAM_100B ']\n",
    " \n",
    "# Choose the height of the cyan bars\n",
    "bars2 = dfe['TradeCount']\n",
    " \n",
    "# The x position of bars\n",
    "r1 = np.arange(len(bars1))\n",
    "r2 = [x + barWidth for x in r1]\n",
    " \n",
    "# Create blue bars\n",
    "plt.bar(r1, bars1, width = 1/2.5, color = (0.1,0.1,0.7,0.9), edgecolor = 'black', capsize=7, label='Actual Revenue')\n",
    "for i in range(dfe['TradeCount'].shape[0]):\n",
    "    count = dfe['TradeCount'][i]\n",
    "    plt.text(i + 0.25, dfe['TradeCount'][i] + 0.6, dfe['TradeCount'][i], ha = 'left', va = 'top') \n",
    "        \n",
    "# Create cyan bars\n",
    "plt.bar(r2, bars2, width = 1/2.5, color = (0.3,0.9,0.4,0.1), edgecolor = 'black', capsize=7, label='Business volume')\n",
    "for i in range(dfe[' Revenue_Bil_TAM_100B '].shape[0]):\n",
    "    count = dfe[' Revenue_Bil_TAM_100B '][i]\n",
    "    plt.text(i, dfe[' Revenue_Bil_TAM_100B '][i] + 0.6, dfe[' Revenue_Bil_TAM_100B '][i], ha = 'center', va = 'top')  \n",
    "    \n",
    "# general layout\n",
    "plt.xticks([r + barWidth for r in range(len(bars1))], ['Naver', 'Coupang', 'eBay Korea', '11th St', 'Wemap'])\n",
    "\n",
    "plt.title('S.Korea eCommerce Market shares (Data: Dart, Chart: BUS9551)', fontdict = font, fontsize = 18)\n",
    "plt.xlabel('Trade Volume Top 5 Companies', fontdict = font)\n",
    "plt.ylabel('Billion USD', fontdict = font)\n",
    "\n",
    "\n",
    "plt.legend()\n",
    "plt.grid(axis='y') \n",
    "    \n",
    "# Show graphic\n",
    "plt.show()"
   ]
  },
  {
   "cell_type": "code",
   "execution_count": 20,
   "metadata": {},
   "outputs": [],
   "source": [
    "cash = dfr.copy()"
   ]
  },
  {
   "cell_type": "code",
   "execution_count": 21,
   "metadata": {},
   "outputs": [
    {
     "data": {
      "text/html": [
       "<div>\n",
       "<style scoped>\n",
       "    .dataframe tbody tr th:only-of-type {\n",
       "        vertical-align: middle;\n",
       "    }\n",
       "\n",
       "    .dataframe tbody tr th {\n",
       "        vertical-align: top;\n",
       "    }\n",
       "\n",
       "    .dataframe thead th {\n",
       "        text-align: right;\n",
       "    }\n",
       "</style>\n",
       "<table border=\"1\" class=\"dataframe\">\n",
       "  <thead>\n",
       "    <tr style=\"text-align: right;\">\n",
       "      <th></th>\n",
       "      <th>Fiscal Period Ending</th>\n",
       "      <th>Revenue Estimate_Bil</th>\n",
       "      <th>Rev_YoY_Growth</th>\n",
       "      <th>OperatingLoss_Bil</th>\n",
       "      <th>Operating Cash Flow</th>\n",
       "      <th>Operating Cash Flow_m</th>\n",
       "      <th>Rev_YoY_Growth.1</th>\n",
       "    </tr>\n",
       "  </thead>\n",
       "  <tbody>\n",
       "    <tr>\n",
       "      <th>0</th>\n",
       "      <td>Dec-13</td>\n",
       "      <td>0.04</td>\n",
       "      <td>Start</td>\n",
       "      <td>NaN</td>\n",
       "      <td>NaN</td>\n",
       "      <td>NaN</td>\n",
       "      <td>-</td>\n",
       "    </tr>\n",
       "    <tr>\n",
       "      <th>1</th>\n",
       "      <td>Dec-14</td>\n",
       "      <td>0.31</td>\n",
       "      <td>629%</td>\n",
       "      <td>-0.11</td>\n",
       "      <td>NaN</td>\n",
       "      <td>NaN</td>\n",
       "      <td>NaN</td>\n",
       "    </tr>\n",
       "    <tr>\n",
       "      <th>2</th>\n",
       "      <td>Dec-15</td>\n",
       "      <td>1.01</td>\n",
       "      <td>225%</td>\n",
       "      <td>-0.49</td>\n",
       "      <td>NaN</td>\n",
       "      <td>NaN</td>\n",
       "      <td>NaN</td>\n",
       "    </tr>\n",
       "    <tr>\n",
       "      <th>3</th>\n",
       "      <td>Dec-16</td>\n",
       "      <td>1.71</td>\n",
       "      <td>69%</td>\n",
       "      <td>-0.50</td>\n",
       "      <td>NaN</td>\n",
       "      <td>NaN</td>\n",
       "      <td>NaN</td>\n",
       "    </tr>\n",
       "    <tr>\n",
       "      <th>4</th>\n",
       "      <td>Dec-17</td>\n",
       "      <td>2.40</td>\n",
       "      <td>40%</td>\n",
       "      <td>-0.57</td>\n",
       "      <td>NaN</td>\n",
       "      <td>NaN</td>\n",
       "      <td>NaN</td>\n",
       "    </tr>\n",
       "    <tr>\n",
       "      <th>5</th>\n",
       "      <td>Dec-18</td>\n",
       "      <td>3.95</td>\n",
       "      <td>65%</td>\n",
       "      <td>-1.05</td>\n",
       "      <td>-0.694</td>\n",
       "      <td>-694.0</td>\n",
       "      <td>NaN</td>\n",
       "    </tr>\n",
       "    <tr>\n",
       "      <th>6</th>\n",
       "      <td>Dec-19</td>\n",
       "      <td>6.27</td>\n",
       "      <td>59%</td>\n",
       "      <td>-0.64</td>\n",
       "      <td>-0.311</td>\n",
       "      <td>-311.0</td>\n",
       "      <td>-55%</td>\n",
       "    </tr>\n",
       "    <tr>\n",
       "      <th>7</th>\n",
       "      <td>Dec-20</td>\n",
       "      <td>11.97</td>\n",
       "      <td>91%</td>\n",
       "      <td>-0.52</td>\n",
       "      <td>0.301</td>\n",
       "      <td>301.0</td>\n",
       "      <td>-197%</td>\n",
       "    </tr>\n",
       "    <tr>\n",
       "      <th>8</th>\n",
       "      <td>Dec-21</td>\n",
       "      <td>19.19</td>\n",
       "      <td>60%</td>\n",
       "      <td>-1.14</td>\n",
       "      <td>0.100</td>\n",
       "      <td>100.0</td>\n",
       "      <td>-67%</td>\n",
       "    </tr>\n",
       "    <tr>\n",
       "      <th>9</th>\n",
       "      <td>Dec-22</td>\n",
       "      <td>26.96</td>\n",
       "      <td>40%</td>\n",
       "      <td>-0.90</td>\n",
       "      <td>0.301</td>\n",
       "      <td>301.0</td>\n",
       "      <td>201%</td>\n",
       "    </tr>\n",
       "    <tr>\n",
       "      <th>10</th>\n",
       "      <td>Dec-23</td>\n",
       "      <td>33.95</td>\n",
       "      <td>26%</td>\n",
       "      <td>-0.50</td>\n",
       "      <td>0.600</td>\n",
       "      <td>600.0</td>\n",
       "      <td>99%</td>\n",
       "    </tr>\n",
       "    <tr>\n",
       "      <th>11</th>\n",
       "      <td>Dec-24</td>\n",
       "      <td>35.48</td>\n",
       "      <td>5%</td>\n",
       "      <td>0.00</td>\n",
       "      <td>0.900</td>\n",
       "      <td>900.0</td>\n",
       "      <td>50%</td>\n",
       "    </tr>\n",
       "  </tbody>\n",
       "</table>\n",
       "</div>"
      ],
      "text/plain": [
       "   Fiscal Period Ending  Revenue Estimate_Bil Rev_YoY_Growth  \\\n",
       "0                Dec-13                  0.04          Start   \n",
       "1                Dec-14                  0.31           629%   \n",
       "2                Dec-15                  1.01           225%   \n",
       "3                Dec-16                  1.71            69%   \n",
       "4                Dec-17                  2.40            40%   \n",
       "5                Dec-18                  3.95            65%   \n",
       "6                Dec-19                  6.27            59%   \n",
       "7                Dec-20                 11.97            91%   \n",
       "8                Dec-21                 19.19            60%   \n",
       "9                Dec-22                 26.96            40%   \n",
       "10               Dec-23                 33.95            26%   \n",
       "11               Dec-24                 35.48             5%   \n",
       "\n",
       "    OperatingLoss_Bil  Operating Cash Flow  Operating Cash Flow_m  \\\n",
       "0                 NaN                  NaN                    NaN   \n",
       "1               -0.11                  NaN                    NaN   \n",
       "2               -0.49                  NaN                    NaN   \n",
       "3               -0.50                  NaN                    NaN   \n",
       "4               -0.57                  NaN                    NaN   \n",
       "5               -1.05               -0.694                 -694.0   \n",
       "6               -0.64               -0.311                 -311.0   \n",
       "7               -0.52                0.301                  301.0   \n",
       "8               -1.14                0.100                  100.0   \n",
       "9               -0.90                0.301                  301.0   \n",
       "10              -0.50                0.600                  600.0   \n",
       "11               0.00                0.900                  900.0   \n",
       "\n",
       "   Rev_YoY_Growth.1  \n",
       "0                 -  \n",
       "1               NaN  \n",
       "2               NaN  \n",
       "3               NaN  \n",
       "4               NaN  \n",
       "5               NaN  \n",
       "6              -55%  \n",
       "7             -197%  \n",
       "8              -67%  \n",
       "9              201%  \n",
       "10              99%  \n",
       "11              50%  "
      ]
     },
     "execution_count": 21,
     "metadata": {},
     "output_type": "execute_result"
    }
   ],
   "source": [
    "cash"
   ]
  },
  {
   "cell_type": "code",
   "execution_count": 22,
   "metadata": {},
   "outputs": [
    {
     "data": {
      "text/plain": [
       "array([0, 1, 2, 3, 4])"
      ]
     },
     "execution_count": 22,
     "metadata": {},
     "output_type": "execute_result"
    }
   ],
   "source": [
    "drop = np.arange(0, 5, 1)\n",
    "drop"
   ]
  },
  {
   "cell_type": "code",
   "execution_count": 23,
   "metadata": {},
   "outputs": [],
   "source": [
    "cash = cash.drop(index = drop)"
   ]
  },
  {
   "cell_type": "code",
   "execution_count": 24,
   "metadata": {},
   "outputs": [
    {
     "data": {
      "text/html": [
       "<div>\n",
       "<style scoped>\n",
       "    .dataframe tbody tr th:only-of-type {\n",
       "        vertical-align: middle;\n",
       "    }\n",
       "\n",
       "    .dataframe tbody tr th {\n",
       "        vertical-align: top;\n",
       "    }\n",
       "\n",
       "    .dataframe thead th {\n",
       "        text-align: right;\n",
       "    }\n",
       "</style>\n",
       "<table border=\"1\" class=\"dataframe\">\n",
       "  <thead>\n",
       "    <tr style=\"text-align: right;\">\n",
       "      <th></th>\n",
       "      <th>Fiscal Period Ending</th>\n",
       "      <th>Revenue Estimate_Bil</th>\n",
       "      <th>Rev_YoY_Growth</th>\n",
       "      <th>OperatingLoss_Bil</th>\n",
       "      <th>Operating Cash Flow</th>\n",
       "      <th>Operating Cash Flow_m</th>\n",
       "      <th>Rev_YoY_Growth.1</th>\n",
       "    </tr>\n",
       "  </thead>\n",
       "  <tbody>\n",
       "    <tr>\n",
       "      <th>5</th>\n",
       "      <td>Dec-18</td>\n",
       "      <td>3.95</td>\n",
       "      <td>65%</td>\n",
       "      <td>-1.05</td>\n",
       "      <td>-0.694</td>\n",
       "      <td>-694.0</td>\n",
       "      <td>NaN</td>\n",
       "    </tr>\n",
       "    <tr>\n",
       "      <th>6</th>\n",
       "      <td>Dec-19</td>\n",
       "      <td>6.27</td>\n",
       "      <td>59%</td>\n",
       "      <td>-0.64</td>\n",
       "      <td>-0.311</td>\n",
       "      <td>-311.0</td>\n",
       "      <td>-55%</td>\n",
       "    </tr>\n",
       "    <tr>\n",
       "      <th>7</th>\n",
       "      <td>Dec-20</td>\n",
       "      <td>11.97</td>\n",
       "      <td>91%</td>\n",
       "      <td>-0.52</td>\n",
       "      <td>0.301</td>\n",
       "      <td>301.0</td>\n",
       "      <td>-197%</td>\n",
       "    </tr>\n",
       "    <tr>\n",
       "      <th>8</th>\n",
       "      <td>Dec-21</td>\n",
       "      <td>19.19</td>\n",
       "      <td>60%</td>\n",
       "      <td>-1.14</td>\n",
       "      <td>0.100</td>\n",
       "      <td>100.0</td>\n",
       "      <td>-67%</td>\n",
       "    </tr>\n",
       "    <tr>\n",
       "      <th>9</th>\n",
       "      <td>Dec-22</td>\n",
       "      <td>26.96</td>\n",
       "      <td>40%</td>\n",
       "      <td>-0.90</td>\n",
       "      <td>0.301</td>\n",
       "      <td>301.0</td>\n",
       "      <td>201%</td>\n",
       "    </tr>\n",
       "    <tr>\n",
       "      <th>10</th>\n",
       "      <td>Dec-23</td>\n",
       "      <td>33.95</td>\n",
       "      <td>26%</td>\n",
       "      <td>-0.50</td>\n",
       "      <td>0.600</td>\n",
       "      <td>600.0</td>\n",
       "      <td>99%</td>\n",
       "    </tr>\n",
       "    <tr>\n",
       "      <th>11</th>\n",
       "      <td>Dec-24</td>\n",
       "      <td>35.48</td>\n",
       "      <td>5%</td>\n",
       "      <td>0.00</td>\n",
       "      <td>0.900</td>\n",
       "      <td>900.0</td>\n",
       "      <td>50%</td>\n",
       "    </tr>\n",
       "  </tbody>\n",
       "</table>\n",
       "</div>"
      ],
      "text/plain": [
       "   Fiscal Period Ending  Revenue Estimate_Bil Rev_YoY_Growth  \\\n",
       "5                Dec-18                  3.95            65%   \n",
       "6                Dec-19                  6.27            59%   \n",
       "7                Dec-20                 11.97            91%   \n",
       "8                Dec-21                 19.19            60%   \n",
       "9                Dec-22                 26.96            40%   \n",
       "10               Dec-23                 33.95            26%   \n",
       "11               Dec-24                 35.48             5%   \n",
       "\n",
       "    OperatingLoss_Bil  Operating Cash Flow  Operating Cash Flow_m  \\\n",
       "5               -1.05               -0.694                 -694.0   \n",
       "6               -0.64               -0.311                 -311.0   \n",
       "7               -0.52                0.301                  301.0   \n",
       "8               -1.14                0.100                  100.0   \n",
       "9               -0.90                0.301                  301.0   \n",
       "10              -0.50                0.600                  600.0   \n",
       "11               0.00                0.900                  900.0   \n",
       "\n",
       "   Rev_YoY_Growth.1  \n",
       "5               NaN  \n",
       "6              -55%  \n",
       "7             -197%  \n",
       "8              -67%  \n",
       "9              201%  \n",
       "10              99%  \n",
       "11              50%  "
      ]
     },
     "execution_count": 24,
     "metadata": {},
     "output_type": "execute_result"
    }
   ],
   "source": [
    "cash"
   ]
  },
  {
   "cell_type": "code",
   "execution_count": 25,
   "metadata": {},
   "outputs": [],
   "source": [
    "cash = cash.reset_index()"
   ]
  },
  {
   "cell_type": "code",
   "execution_count": 26,
   "metadata": {},
   "outputs": [
    {
     "data": {
      "text/plain": [
       "['-694', '-311', '301', '100', '301', '600', '900']"
      ]
     },
     "execution_count": 26,
     "metadata": {},
     "output_type": "execute_result"
    }
   ],
   "source": [
    "labels = ['{:0.0f}'.format(v) for v in cash['Operating Cash Flow_m']]\n",
    "labels "
   ]
  },
  {
   "cell_type": "code",
   "execution_count": 27,
   "metadata": {},
   "outputs": [
    {
     "data": {
      "text/plain": [
       "0   -694.0\n",
       "1   -311.0\n",
       "2    301.0\n",
       "3    100.0\n",
       "4    301.0\n",
       "5    600.0\n",
       "6    900.0\n",
       "Name: Operating Cash Flow_m, dtype: float64"
      ]
     },
     "execution_count": 27,
     "metadata": {},
     "output_type": "execute_result"
    }
   ],
   "source": [
    "cash['Operating Cash Flow_m']"
   ]
  },
  {
   "cell_type": "code",
   "execution_count": 28,
   "metadata": {},
   "outputs": [
    {
     "data": {
      "text/plain": [
       "0      0.04\n",
       "1      0.31\n",
       "2      1.01\n",
       "3      1.71\n",
       "4      2.40\n",
       "5      3.95\n",
       "6      6.27\n",
       "7     11.97\n",
       "8     19.19\n",
       "9     26.96\n",
       "10    33.95\n",
       "11    35.48\n",
       "Name: Revenue Estimate_Bil, dtype: float64"
      ]
     },
     "execution_count": 28,
     "metadata": {},
     "output_type": "execute_result"
    }
   ],
   "source": [
    "dfr['Revenue Estimate_Bil']"
   ]
  },
  {
   "cell_type": "code",
   "execution_count": 29,
   "metadata": {},
   "outputs": [
    {
     "data": {
      "text/plain": [
       "0.31"
      ]
     },
     "execution_count": 29,
     "metadata": {},
     "output_type": "execute_result"
    }
   ],
   "source": [
    "dfr['Revenue Estimate_Bil'][1]"
   ]
  },
  {
   "cell_type": "code",
   "execution_count": 30,
   "metadata": {},
   "outputs": [
    {
     "data": {
      "text/plain": [
       "0   -694.0\n",
       "1   -311.0\n",
       "2    301.0\n",
       "3    100.0\n",
       "4    301.0\n",
       "5    600.0\n",
       "6    900.0\n",
       "Name: Operating Cash Flow_m, dtype: float64"
      ]
     },
     "execution_count": 30,
     "metadata": {},
     "output_type": "execute_result"
    }
   ],
   "source": [
    "cash['Operating Cash Flow_m']"
   ]
  },
  {
   "cell_type": "code",
   "execution_count": 31,
   "metadata": {},
   "outputs": [
    {
     "data": {
      "text/plain": [
       "-311.0"
      ]
     },
     "execution_count": 31,
     "metadata": {},
     "output_type": "execute_result"
    }
   ],
   "source": [
    "cash['Operating Cash Flow_m'][1]"
   ]
  },
  {
   "cell_type": "code",
   "execution_count": 32,
   "metadata": {
    "scrolled": true
   },
   "outputs": [
    {
     "data": {
      "image/png": "[encoded data removed]",
      "text/plain": [
       "<Figure size 648x504 with 1 Axes>"
      ]
     },
     "metadata": {
      "needs_background": "light"
     },
     "output_type": "display_data"
    }
   ],
   "source": [
    "plt.figure(figsize = [9,7])\n",
    "# plt.errorbar(x = cash['Fiscal Period Ending'], y = cash['Operating Cash Flow_m'], label = 'Revenue history and forecast')\n",
    "\n",
    "sb.barplot(data = cash, x = 'Fiscal Period Ending',  y = cash['Operating Cash Flow_m'], palette = 'Blues')\n",
    "# plt.legend(bbox_to_anchor=(0.01,0.97), loc = 'upper left', borderaxespad = 0)\n",
    "\n",
    "for i in range(cash['Operating Cash Flow_m'].shape[0]):\n",
    "     plt.text(i, cash['Operating Cash Flow_m'][i]-5, labels[i], ha = 'center', va = 'top', bbox=dict(facecolor='white', alpha=0.5))\n",
    "\n",
    "\n",
    "plt.title('Operating Cash Flow (Data: Seeking Alpha, Chart: BUS9551)', fontdict = font)\n",
    "plt.xlabel('Fiscal Year End', fontdict = font)\n",
    "plt.ylabel('Million USD', fontdict = font)\n",
    "\n",
    "plt.grid(axis='y')\n",
    "plt.show()"
   ]
  },
  {
   "cell_type": "code",
   "execution_count": null,
   "metadata": {},
   "outputs": [],
   "source": []
  }
 ],
 "metadata": {
  "kernelspec": {
   "display_name": "Python 3",
   "language": "python",
   "name": "python3"
  },
  "language_info": {
   "codemirror_mode": {
    "name": "ipython",
    "version": 3
   },
   "file_extension": ".py",
   "mimetype": "text/x-python",
   "name": "python",
   "nbconvert_exporter": "python",
   "pygments_lexer": "ipython3",
   "version": "3.8.5"
  },
  "toc": {
   "base_numbering": 1,
   "nav_menu": {},
   "number_sections": true,
   "sideBar": true,
   "skip_h1_title": false,
   "title_cell": "Table of Contents",
   "title_sidebar": "Contents",
   "toc_cell": false,
   "toc_position": {},
   "toc_section_display": true,
   "toc_window_display": false
  },
  "varInspector": {
   "cols": {
    "lenName": 16,
    "lenType": 16,
    "lenVar": 40
   },
   "kernels_config": {
    "python": {
     "delete_cmd_postfix": "",
     "delete_cmd_prefix": "del ",
     "library": "var_list.py",
     "varRefreshCmd": "print(var_dic_list())"
    },
    "r": {
     "delete_cmd_postfix": ") ",
     "delete_cmd_prefix": "rm(",
     "library": "var_list.r",
     "varRefreshCmd": "cat(var_dic_list()) "
    }
   },
   "types_to_exclude": [
    "module",
    "function",
    "builtin_function_or_method",
    "instance",
    "_Feature"
   ],
   "window_display": false
  }
 },
 "nbformat": 4,
 "nbformat_minor": 4
}
