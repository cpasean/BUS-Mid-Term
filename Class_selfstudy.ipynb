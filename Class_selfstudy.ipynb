{
 "cells": [
  {
   "cell_type": "markdown",
   "metadata": {},
   "source": [
    "# 교제"
   ]
  },
  {
   "cell_type": "code",
   "execution_count": 1,
   "metadata": {},
   "outputs": [
    {
     "data": {
      "text/plain": [
       "True"
      ]
     },
     "execution_count": 1,
     "metadata": {},
     "output_type": "execute_result"
    }
   ],
   "source": [
    "import webbrowser\n",
    "webbrowser.open('https://play.google.com/books/reader?id=kaSeDwAAQBAJ&pg=GBS.PA195')"
   ]
  },
  {
   "cell_type": "markdown",
   "metadata": {},
   "source": [
    "# Class 개념 정리"
   ]
  },
  {
   "cell_type": "code",
   "execution_count": 2,
   "metadata": {},
   "outputs": [
    {
     "name": "stdout",
     "output_type": "stream",
     "text": [
      "Enter the first number: 3\n",
      "Enter the second number: 4\n",
      "7\n",
      "Enter the first number: 4\n",
      "Enter the second number: 56\n",
      "67\n",
      "Enter the first number: 6\n",
      "Enter the second number: 55\n",
      "128\n"
     ]
    }
   ],
   "source": [
    "# 클래스가 필요한 이유\n",
    "\n",
    "result = 0   #전역변수를 함수 개수 만큼 각각 설정해야 함.\n",
    "# result1\n",
    "# result2\n",
    "# result3\n",
    "# .\n",
    "# .\n",
    "# .\n",
    "\n",
    "def add(num):\n",
    "    global result     \n",
    "    result = result + num\n",
    "    return result\n",
    "\n",
    "\n",
    "# Calculation 1\n",
    "a = int(input('Enter the first number: '))\n",
    "result = add(a)\n",
    "b = int(input('Enter the second number: '))\n",
    "result = add(b)\n",
    "print(result)\n",
    "\n",
    "# Calculation 2\n",
    "a = int(input('Enter the first number: '))\n",
    "result = add(a)\n",
    "b = int(input('Enter the second number: '))\n",
    "result = add(b)\n",
    "print(result)\n",
    "\n",
    "# Calculation 3\n",
    "a = int(input('Enter the first number: '))\n",
    "result = add(a)\n",
    "b = int(input('Enter the second number: '))\n",
    "result = add(b)\n",
    "print(result)"
   ]
  },
  {
   "cell_type": "markdown",
   "metadata": {},
   "source": [
    "# Class 기초"
   ]
  },
  {
   "cell_type": "code",
   "execution_count": 3,
   "metadata": {},
   "outputs": [],
   "source": [
    "class Cookie:\n",
    "    pass\n",
    "\n",
    "a = Cookie()    # Cookie 는 a의 객체 / a 는 Cookie의 인스턴스\n",
    "b = Cookie()"
   ]
  },
  {
   "cell_type": "code",
   "execution_count": 4,
   "metadata": {},
   "outputs": [
    {
     "data": {
      "text/plain": [
       "__main__.FourCal"
      ]
     },
     "execution_count": 4,
     "metadata": {},
     "output_type": "execute_result"
    }
   ],
   "source": [
    "class FourCal:\n",
    "    pass\n",
    "\n",
    "a = FourCal() # a객체 생성\n",
    "\n",
    "type(a)    # a의 타입은 클래스의 객체로 확인됨. "
   ]
  },
  {
   "cell_type": "code",
   "execution_count": 5,
   "metadata": {},
   "outputs": [
    {
     "name": "stdout",
     "output_type": "stream",
     "text": [
      "4 2\n"
     ]
    }
   ],
   "source": [
    "class FourCal:\n",
    "    \n",
    "    def setdata(first, second): # self를 반드시 생략해야 한다. \n",
    "        \n",
    "        one = first # 매서드 매개변수에 변수 입력    \n",
    "        \n",
    "        two = second # 매서드 매개변수에 변수 입력  \n",
    "        \n",
    "        print(one, two)    \n",
    "\n",
    "        \n",
    "a = FourCal() # a객체 생성 => 클래스로 이동\n",
    "\n",
    "FourCal.setdata(4,2) # [객체.매서드] 형태로 호출하는 경우, 객체를 하나밖에 사용 못함"
   ]
  },
  {
   "cell_type": "code",
   "execution_count": 6,
   "metadata": {},
   "outputs": [
    {
     "name": "stdout",
     "output_type": "stream",
     "text": [
      "4 2\n",
      "4 2\n",
      "4 2\n"
     ]
    }
   ],
   "source": [
    "class FourCal:\n",
    "    \n",
    "    def setdata(self, first, second): # self에는 객체를 호출한 a.setdata의 a가 입력됨\n",
    "        \n",
    "        self.one = first # 매서드 매개변수에 변수 입력    a.first\n",
    "        \n",
    "        self.two = second # 매서드 매개변수에 변수 입력   b.first\n",
    "        \n",
    "        print(first, second)  \n",
    "        print(self.one, self.two)   \n",
    "        print(a.one, a.two)  # self는 전달된 객체 a이므로 self.one과 동일한 메모리 사용\n",
    "        \n",
    "        \n",
    "a = FourCal() # a객체 생성 \n",
    "\n",
    "a.setdata(4,2) # [클래스이름.매서드] 형태로 호출하는 경우"
   ]
  },
  {
   "cell_type": "code",
   "execution_count": 7,
   "metadata": {},
   "outputs": [
    {
     "name": "stdout",
     "output_type": "stream",
     "text": [
      "4 2\n",
      "4 2\n",
      "4 2\n",
      "4 5\n",
      "4 5\n",
      "4 5\n"
     ]
    }
   ],
   "source": [
    "class FourCal:\n",
    "    \n",
    "    def setdata(self, first, second): # self에는 객체를 호출한 a.setdata의 a가 입력됨\n",
    "        \n",
    "        self.one = first # 매서드 매개변수에 변수 입력    a.first\n",
    "        \n",
    "        self.two = second # 매서드 매개변수에 변수 입력   b.first\n",
    "        \n",
    "        print(first, second)  \n",
    "        print(self.one, self.two)   \n",
    "        print(a.one, a.two)  # self는 전달된 객체 a이므로 self.one과 동일한 메모리 사용\n",
    "        \n",
    "        \n",
    "a = FourCal() # a객체 생성 \n",
    "b = FourCal() # b객체 생성 \n",
    "\n",
    "a.setdata(4,2) # [클래스이름.매서드] 형태로 호출하는 경우\n",
    "a.setdata(4,5)"
   ]
  },
  {
   "cell_type": "code",
   "execution_count": 8,
   "metadata": {},
   "outputs": [
    {
     "name": "stdout",
     "output_type": "stream",
     "text": [
      "4 2\n",
      "4 2\n",
      "4 2\n",
      "4 5\n",
      "4 5\n",
      "4 2\n"
     ]
    }
   ],
   "source": [
    "class FourCal:\n",
    "    \n",
    "    def setdata(self, first, second): # self에는 객체를 호출한 a.setdata의 a가 입력됨\n",
    "        \n",
    "        self.one = first # 매서드 매개변수에 변수 입력    a.first\n",
    "        \n",
    "        self.two = second # 매서드 매개변수에 변수 입력   b.first\n",
    "        \n",
    "        print(first, second)  \n",
    "        print(self.one, self.two)   \n",
    "        print(a.one, a.two)  # b.one / b.two 로 별도 설정을 해줘야 함. Self사용 권장!\n",
    "        \n",
    "        \n",
    "a = FourCal() # a객체 생성 \n",
    "b = FourCal() # b객체 생성 \n",
    "\n",
    "a.setdata(4,2) # [클래스이름.매서드] 형태로 호출하는 경우\n",
    "b.setdata(4,5)"
   ]
  },
  {
   "cell_type": "code",
   "execution_count": 9,
   "metadata": {},
   "outputs": [
    {
     "name": "stdout",
     "output_type": "stream",
     "text": [
      "4 2\n",
      "4 2\n",
      "4 2\n",
      "4 5\n",
      "4 5\n",
      "4 2\n"
     ]
    }
   ],
   "source": [
    "class FourCal:\n",
    "    \n",
    "    def setdata(self, first, second): # self에는 객체를 호출한 a.setdata의 a가 입력됨\n",
    "        \n",
    "        self.one = first # 매서드 매개변수에 변수 입력    a.first\n",
    "        \n",
    "        self.two = second # 매서드 매개변수에 변수 입력   b.first\n",
    "        \n",
    "        print(first, second)  \n",
    "        print(self.one, self.two)   \n",
    "        print(a.one, a.two)  # b.one / b.two 로 별도 설정을 해줘야 함. Self사용 권장!\n",
    "        \n",
    "        \n",
    "a = FourCal() # a객체 생성 \n",
    "b = FourCal() # b객체 생성 \n",
    "\n",
    "a.setdata(4,2) # [클래스이름.매서드] 형태로 호출하는 경우\n",
    "b.setdata(4,5)"
   ]
  },
  {
   "cell_type": "code",
   "execution_count": 10,
   "metadata": {},
   "outputs": [
    {
     "name": "stdout",
     "output_type": "stream",
     "text": [
      "4 2 \n",
      "\n",
      "4 5 \n",
      "\n",
      "4 2\n",
      "4 5\n"
     ]
    }
   ],
   "source": [
    "class FourCal:\n",
    "    \n",
    "    def setdata(self, first, second): # self에는 객체를 호출한 a.setdata의 a가 입력됨\n",
    "        \n",
    "        self.one = first # 매서드 매개변수에 변수 입력    a.first\n",
    "        \n",
    "        self.two = second # 매서드 매개변수에 변수 입력   b.first\n",
    "        \n",
    "        print(self.one, self.two,'\\n') \n",
    "        \n",
    "                \n",
    "a = FourCal() # a객체 생성 \n",
    "b = FourCal() # b객체 생성 \n",
    "\n",
    "a.setdata(4,2) # [클래스이름.매서드] 형태로 호출하는 경우\n",
    "b.setdata(4,5)\n",
    "\n",
    "print(a.one, a.two)   # 클래스로 만든 객체의 객체변수는 \n",
    "print(b.one, b.two)   # 다른 객체의 객체변수에 상관없이 독립적인 값을 유지한다. "
   ]
  },
  {
   "cell_type": "markdown",
   "metadata": {},
   "source": [
    "## 더하기"
   ]
  },
  {
   "cell_type": "code",
   "execution_count": 11,
   "metadata": {},
   "outputs": [
    {
     "name": "stdout",
     "output_type": "stream",
     "text": [
      "6\n"
     ]
    }
   ],
   "source": [
    "class FourCal:\n",
    "    \n",
    "    def setdata(self, first, second): \n",
    "        self.one = first \n",
    "        self.two = second \n",
    "        \n",
    "    def add(self):   # add() 매서드에 반드시 self를 매개변수로 넣어준다.\n",
    "        result = self.one + self.two\n",
    "        return result\n",
    "    \n",
    "        \n",
    "                \n",
    "a = FourCal() \n",
    "a.setdata(4,2) \n",
    "\n",
    "answer = a.add()\n",
    "print(answer)"
   ]
  },
  {
   "cell_type": "markdown",
   "metadata": {},
   "source": [
    "## 사칙연산"
   ]
  },
  {
   "cell_type": "code",
   "execution_count": 12,
   "metadata": {},
   "outputs": [
    {
     "name": "stdout",
     "output_type": "stream",
     "text": [
      "6 2 8 2.0\n"
     ]
    }
   ],
   "source": [
    "class FourCal:\n",
    "    \n",
    "    def setdata(self, first, second): \n",
    "        self.one = first \n",
    "        self.two = second \n",
    "        \n",
    "    def add(self):   # add() 매서드에 반드시 self를 매개변수로 넣어준다.\n",
    "        result = self.one + self.two\n",
    "        return result\n",
    "    \n",
    "    def minus(self):   # add() 매서드에 반드시 self를 매개변수로 넣어준다.\n",
    "        result = self.one - self.two\n",
    "        return result\n",
    "\n",
    "    def mul(self):   # add() 매서드에 반드시 self를 매개변수로 넣어준다.\n",
    "        result = self.one * self.two\n",
    "        return result\n",
    "\n",
    "    def div(self):   # add() 매서드에 반드시 self를 매개변수로 넣어준다.\n",
    "        result = self.one / self.two\n",
    "        return result    \n",
    "        \n",
    "                \n",
    "a = FourCal() \n",
    "a.setdata(4,2) \n",
    "\n",
    "add = a.add()\n",
    "minus = a.minus()\n",
    "mul = a.mul()\n",
    "div = a.div()\n",
    "\n",
    "print(add, minus, mul, div)\n"
   ]
  },
  {
   "cell_type": "code",
   "execution_count": 13,
   "metadata": {},
   "outputs": [
    {
     "name": "stdout",
     "output_type": "stream",
     "text": [
      "6 2 8 2.0\n",
      "12 8 20 5.0\n"
     ]
    }
   ],
   "source": [
    "class FourCal:\n",
    "    \n",
    "    def setdata(self, first, second): \n",
    "        self.one = first \n",
    "        self.two = second \n",
    "        \n",
    "    def add(self):   # add() 매서드에 반드시 self를 매개변수로 넣어준다.\n",
    "        result = self.one + self.two\n",
    "        return result\n",
    "    \n",
    "    def minus(self):   # add() 매서드에 반드시 self를 매개변수로 넣어준다.\n",
    "        result = self.one - self.two\n",
    "        return result\n",
    "\n",
    "    def mul(self):   # add() 매서드에 반드시 self를 매개변수로 넣어준다.\n",
    "        result = self.one * self.two\n",
    "        return result\n",
    "\n",
    "    def div(self):   # add() 매서드에 반드시 self를 매개변수로 넣어준다.\n",
    "        result = self.one / self.two\n",
    "        return result    \n",
    "        \n",
    "                \n",
    "a = FourCal() \n",
    "a.setdata(4,2) \n",
    "\n",
    "b = FourCal() \n",
    "b.setdata(10,2)\n",
    "\n",
    "\n",
    "add = a.add()\n",
    "minus = a.minus()\n",
    "mul = a.mul()\n",
    "div = a.div()\n",
    "\n",
    "print(add, minus, mul, div)\n",
    "\n",
    "add = b.add()\n",
    "minus = b.minus()\n",
    "mul = b.mul()\n",
    "div = b.div()\n",
    "\n",
    "print(add, minus, mul, div)\n"
   ]
  },
  {
   "cell_type": "code",
   "execution_count": 14,
   "metadata": {},
   "outputs": [
    {
     "name": "stdout",
     "output_type": "stream",
     "text": [
      "4\n",
      "4\n",
      "8 0 16 1.0\n"
     ]
    }
   ],
   "source": [
    "class FourCal:\n",
    "    \n",
    "    def setdata(self, first, second): \n",
    "        self.one = first \n",
    "        self.two = second \n",
    "        \n",
    "    def add(self):   # add() 매서드에 반드시 self를 매개변수로 넣어준다.\n",
    "        result = self.one + self.two\n",
    "        return result\n",
    "    \n",
    "    def minus(self):   # add() 매서드에 반드시 self를 매개변수로 넣어준다.\n",
    "        result = self.one - self.two\n",
    "        return result\n",
    "\n",
    "    def mul(self):   # add() 매서드에 반드시 self를 매개변수로 넣어준다.\n",
    "        result = self.one * self.two\n",
    "        return result\n",
    "\n",
    "    def div(self):   # add() 매서드에 반드시 self를 매개변수로 넣어준다.\n",
    "        result = self.one / self.two\n",
    "        return result    \n",
    "        \n",
    "                \n",
    "a = FourCal() \n",
    "hana = int(input())\n",
    "dul = int(input())\n",
    "a.setdata(hana,dul) \n",
    "\n",
    "\n",
    "add = a.add()\n",
    "minus = a.minus()\n",
    "mul = a.mul()\n",
    "div = a.div()\n",
    "\n",
    "print(add, minus, mul, div)"
   ]
  },
  {
   "cell_type": "markdown",
   "metadata": {},
   "source": [
    "# 생성자 \n",
    "객체가 생성될 때 자동으로 호출되는 매서드"
   ]
  },
  {
   "cell_type": "code",
   "execution_count": 15,
   "metadata": {},
   "outputs": [
    {
     "name": "stdout",
     "output_type": "stream",
     "text": [
      "6 2 8 2.0\n"
     ]
    }
   ],
   "source": [
    "# a.setdata 로 변수를 입력 받는 경우 a = ForuCal() 괄호안에 공란으로 비워둔다. \n",
    "\n",
    "class FourCal:\n",
    "        \n",
    "    def setdata(self, first, second): \n",
    "        self.one = first \n",
    "        self.two = second \n",
    "        \n",
    "    def add(self):   # add() 매서드에 반드시 self를 매개변수로 넣어준다.\n",
    "        result = self.one + self.two\n",
    "        return result\n",
    "    \n",
    "    def minus(self):  \n",
    "        result = self.one - self.two\n",
    "        return result\n",
    "\n",
    "    def mul(self):   \n",
    "        result = self.one * self.two\n",
    "        return result\n",
    "\n",
    "    def div(self):   \n",
    "        result = self.one / self.two\n",
    "        return result    \n",
    "        \n",
    "                \n",
    "a = FourCal() \n",
    "a.setdata(4,2) \n",
    "\n",
    "add = a.add()\n",
    "minus = a.minus()\n",
    "mul = a.mul()\n",
    "div = a.div()\n",
    "\n",
    "print(add, minus, mul, div)"
   ]
  },
  {
   "cell_type": "code",
   "execution_count": 16,
   "metadata": {},
   "outputs": [
    {
     "name": "stdout",
     "output_type": "stream",
     "text": [
      "6 2 8 2.0\n"
     ]
    }
   ],
   "source": [
    "# 생성자 __init__ 란 객체가 생성될 때 자동으로 호출되는 메서드 이다. \n",
    "# a.setdata 없이 초기값을 클래스 호출 시 바로 사용 할 경우 유용/안전하다. \n",
    "# a = FourCal(4,2)\n",
    "\n",
    "class FourCal:\n",
    "    \n",
    "    def __init__(self, first, second): \n",
    "        self.one = first \n",
    "        self.two = second \n",
    "       \n",
    "    def add(self):   # add() 매서드에 반드시 self를 매개변수로 넣어준다.\n",
    "        result = self.one + self.two\n",
    "        return result\n",
    "    \n",
    "    def minus(self):   # add() 매서드에 반드시 self를 매개변수로 넣어준다.\n",
    "        result = self.one - self.two\n",
    "        return result\n",
    "\n",
    "    def mul(self):   # add() 매서드에 반드시 self를 매개변수로 넣어준다.\n",
    "        result = self.one * self.two\n",
    "        return result\n",
    "\n",
    "    def div(self):   # add() 매서드에 반드시 self를 매개변수로 넣어준다.\n",
    "        result = self.one / self.two\n",
    "        return result    \n",
    "        \n",
    "                \n",
    "a = FourCal(4,2) \n",
    "\n",
    "add = a.add()\n",
    "minus = a.minus()\n",
    "mul = a.mul()\n",
    "div = a.div()\n",
    "\n",
    "print(add, minus, mul, div)"
   ]
  },
  {
   "cell_type": "markdown",
   "metadata": {},
   "source": [
    "# 클래스 상속\n",
    "\n",
    "기존 클래스가 라이브러리 형태로 제공되거나 수정이 허용되지 않은 상황이라면 상속을 사용해야 한다. "
   ]
  },
  {
   "cell_type": "code",
   "execution_count": 17,
   "metadata": {},
   "outputs": [
    {
     "data": {
      "text/plain": [
       "6"
      ]
     },
     "execution_count": 17,
     "metadata": {},
     "output_type": "execute_result"
    }
   ],
   "source": [
    "class FourCal:\n",
    "    \n",
    "    def __init__(self, first, second): \n",
    "        self.one = first \n",
    "        self.two = second \n",
    "       \n",
    "    def add(self):   # add() 매서드에 반드시 self를 매개변수로 넣어준다.\n",
    "        result = self.one + self.two\n",
    "        return result\n",
    "    \n",
    "    def minus(self):   # add() 매서드에 반드시 self를 매개변수로 넣어준다.\n",
    "        result = self.one - self.two\n",
    "        return result\n",
    "\n",
    "    def mul(self):   # add() 매서드에 반드시 self를 매개변수로 넣어준다.\n",
    "        result = self.one * self.two\n",
    "        return result\n",
    "\n",
    "    def div(self):   # add() 매서드에 반드시 self를 매개변수로 넣어준다.\n",
    "        result = self.one / self.two\n",
    "        return result    \n",
    "        \n",
    "\n",
    "class MoreFourCal(FourCal):   # 클래스 상속. FourCal의 모든 기능을 물려받는다. \n",
    "    pass\n",
    "\n",
    "a = MoreFourCal(4,2)\n",
    "a.add()"
   ]
  },
  {
   "cell_type": "code",
   "execution_count": 20,
   "metadata": {},
   "outputs": [
    {
     "name": "stdout",
     "output_type": "stream",
     "text": [
      "6\n",
      "6\n",
      "16\n"
     ]
    }
   ],
   "source": [
    "class FourCal:\n",
    "    \n",
    "    def __init__(self, first, second): \n",
    "        self.one = first \n",
    "        self.two = second \n",
    "       \n",
    "    def add(self):   # add() 매서드에 반드시 self를 매개변수로 넣어준다.\n",
    "        result = self.one + self.two\n",
    "        return result\n",
    "    \n",
    "    def minus(self):   # add() 매서드에 반드시 self를 매개변수로 넣어준다.\n",
    "        result = self.one - self.two\n",
    "        return result\n",
    "\n",
    "    def mul(self):   # add() 매서드에 반드시 self를 매개변수로 넣어준다.\n",
    "        result = self.one * self.two\n",
    "        return result\n",
    "\n",
    "    def div(self):   # add() 매서드에 반드시 self를 매개변수로 넣어준다.\n",
    "        result = self.one / self.two\n",
    "        return result    \n",
    "  \n",
    "print(a.add())\n",
    "\n",
    "class MoreFourCal(FourCal):   # 클래스 상속. FourCal의 모든 기능을 물려받는다. \n",
    "    def pow(self):\n",
    "        result = self.one ** self.two\n",
    "        return result\n",
    "\n",
    "a = MoreFourCal(4,2)\n",
    "\n",
    "print(a.add())\n",
    "print(a.pow())"
   ]
  }
 ],
 "metadata": {
  "hide_input": false,
  "kernelspec": {
   "display_name": "Python 3",
   "language": "python",
   "name": "python3"
  },
  "language_info": {
   "codemirror_mode": {
    "name": "ipython",
    "version": 3
   },
   "file_extension": ".py",
   "mimetype": "text/x-python",
   "name": "python",
   "nbconvert_exporter": "python",
   "pygments_lexer": "ipython3",
   "version": "3.8.5"
  },
  "toc": {
   "base_numbering": 1,
   "nav_menu": {},
   "number_sections": true,
   "sideBar": true,
   "skip_h1_title": false,
   "title_cell": "Table of Contents",
   "title_sidebar": "Contents",
   "toc_cell": false,
   "toc_position": {},
   "toc_section_display": true,
   "toc_window_display": false
  },
  "varInspector": {
   "cols": {
    "lenName": 16,
    "lenType": 16,
    "lenVar": 40
   },
   "kernels_config": {
    "python": {
     "delete_cmd_postfix": "",
     "delete_cmd_prefix": "del ",
     "library": "var_list.py",
     "varRefreshCmd": "print(var_dic_list())"
    },
    "r": {
     "delete_cmd_postfix": ") ",
     "delete_cmd_prefix": "rm(",
     "library": "var_list.r",
     "varRefreshCmd": "cat(var_dic_list()) "
    }
   },
   "types_to_exclude": [
    "module",
    "function",
    "builtin_function_or_method",
    "instance",
    "_Feature"
   ],
   "window_display": false
  }
 },
 "nbformat": 4,
 "nbformat_minor": 4
}
